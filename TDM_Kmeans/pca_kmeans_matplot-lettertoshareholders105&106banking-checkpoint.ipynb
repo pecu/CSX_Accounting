{
 "cells": [
  {
   "cell_type": "code",
   "execution_count": 1,
   "metadata": {},
   "outputs": [],
   "source": [
    "import numpy as np\n",
    "from sklearn.cluster import KMeans\n",
    "import matplotlib.pyplot as plt\n",
    "import seaborn as sns\n",
    "import jieba\n",
    "import pandas as pd\n",
    "from string import digits\n",
    "from sklearn import feature_extraction\n",
    "from sklearn.feature_extraction.text import TfidfVectorizer\n",
    "from sklearn.feature_extraction.text import CountVectorizer\n",
    "from sklearn.preprocessing import StandardScaler\n",
    "from sklearn.decomposition import PCA as sklearnPCA\n",
    "%matplotlib inline "
   ]
  },
  {
   "cell_type": "code",
   "execution_count": 2,
   "metadata": {},
   "outputs": [],
   "source": [
    "import glob\n",
    "def textfile(d):\n",
    "    files = glob.glob(d)\n",
    "    return files\n",
    "textfile1=textfile(\"./files/*.txt\")\n",
    "textfile2=textfile(\"./files2/*.txt\")"
   ]
  },
  {
   "cell_type": "code",
   "execution_count": 3,
   "metadata": {},
   "outputs": [
    {
     "name": "stderr",
     "output_type": "stream",
     "text": [
      "Building prefix dict from the default dictionary ...\n",
      "Loading model from cache /var/folders/zz/bqrx4v8s4cq4vszqlfzpp6_40000gn/T/jieba.cache\n",
      "Loading model cost 0.677 seconds.\n",
      "Prefix dict has been built succesfully.\n"
     ]
    }
   ],
   "source": [
    "jieba.load_userdict('dict.txt')"
   ]
  },
  {
   "cell_type": "code",
   "execution_count": 4,
   "metadata": {},
   "outputs": [],
   "source": [
    "stopwords = ['致股','我', '對', '\\n', '年', '月', '的', '1', '2', '(', ')', '/', '於', '大同', '公司', '4', '106', '臺', '本', '人', '為', '之', '北', '5', '有', '元','一事','TCRI','ai','致股']\n",
    "e = open('stopwords.txt','w+',encoding='utf8')\n",
    "for i in stopwords:\n",
    "    e.write(i+'\\n')\n",
    "e.close()\n",
    "puncs = '！？｡＂＃＄％＆＇（）＊＋，－／：；＜＝＞＠［＼］＾＿｀｛｜｝～｟｠｢｣､、〃》「」『』【】〔〕〖〗〘〙〚〛〜〝〞〟〰〾〿–—‘’‛“”„‟…‧﹏.。'"
   ]
  },
  {
   "cell_type": "code",
   "execution_count": 5,
   "metadata": {},
   "outputs": [],
   "source": [
    "# Take each line in target_txt as an unique document\n",
    "# Cut each line for trarget_txt, and collect it in corpus.\n",
    "def wordlist(textfile):\n",
    "    corpus = []\n",
    "    jieba.load_userdict('dict.txt')\n",
    "    for t in textfile:\n",
    "        f = open(t,'r', encoding =\"utf-8\")\n",
    "        r = f.read()\n",
    "        remove_digits = str.maketrans('', '', digits)\n",
    "        r = r.translate(remove_digits)\n",
    "        r_list = jieba.cut(r, cut_all=False)\n",
    "        r_list = list(r_list)\n",
    "        for i in range(5):\n",
    "            for w in r_list:\n",
    "                if (w in stopwords) or (w in puncs) or (w < '\\u4e00') or (w > '\\u9fff'):\n",
    "                    r_list.remove(w)        \n",
    "        st=\" \".join(r_list)\n",
    "    #     corpus[st]\n",
    "        corpus.append(st)\n",
    "    return corpus"
   ]
  },
  {
   "cell_type": "code",
   "execution_count": 6,
   "metadata": {},
   "outputs": [],
   "source": [
    "w1=wordlist(textfile1)\n",
    "w2=wordlist(textfile2)"
   ]
  },
  {
   "cell_type": "code",
   "execution_count": 7,
   "metadata": {},
   "outputs": [],
   "source": [
    "w=w1+w2\n",
    "vectorizer = TfidfVectorizer()\n",
    "tfidf = vectorizer.fit_transform(w)\n",
    "words = vectorizer.get_feature_names()\n",
    "X = tfidf.toarray()\n",
    "X_std = StandardScaler().fit_transform(X)\n",
    "sklearn_pca = sklearnPCA(n_components = 2)\n",
    "Y_sklearn = sklearn_pca.fit_transform(X_std)"
   ]
  },
  {
   "cell_type": "code",
   "execution_count": 8,
   "metadata": {},
   "outputs": [
    {
     "data": {
      "text/plain": [
       "array([[ -5.60255837,  -2.34318723],\n",
       "       [  1.83117317,  -4.52418839],\n",
       "       [182.80100167,  13.67466508],\n",
       "       [ -4.42766678,  -1.27163196],\n",
       "       [ -0.39075552,  -5.95234475],\n",
       "       [ -4.16576501,  -3.22858031],\n",
       "       [ -4.16576501,  -3.22858031],\n",
       "       [ -2.81117726,  -3.92505264],\n",
       "       [ -4.85098378,  -1.58985966],\n",
       "       [ -3.11553379,  -1.95462585],\n",
       "       [ -3.19085402,  -3.45913419],\n",
       "       [ -4.84232256,  -3.06405799],\n",
       "       [ -3.89786677,  -3.50025292],\n",
       "       [ -2.6750092 ,  -3.36132519],\n",
       "       [ -2.84508557,  -1.43943106],\n",
       "       [ -1.17952007,   0.63025375],\n",
       "       [ -1.02817298,   4.20646215],\n",
       "       [ -3.66529217,  -3.88354968],\n",
       "       [  8.51291083,  -2.53457348],\n",
       "       [ -4.00809711,  -2.14849208],\n",
       "       [  2.68234576,  -2.40560562],\n",
       "       [  2.63313735,  -7.28877368],\n",
       "       [ -1.98628729,  -3.19220585],\n",
       "       [ -4.16576501,  -3.22858031],\n",
       "       [ -4.64039296,  -3.45213643],\n",
       "       [-17.01238943, 174.25281945],\n",
       "       [ -0.88301656,  -1.68249142],\n",
       "       [ -2.69790998,  -2.13352272],\n",
       "       [ -5.66356301,  -1.4568428 ],\n",
       "       [ -4.16576501,  -3.22858031],\n",
       "       [ -4.84113738,  -3.1899629 ],\n",
       "       [ -2.30069339,  -4.17280899],\n",
       "       [ -3.41861275,  -3.63747462],\n",
       "       [ -2.45870097,  -3.12975479],\n",
       "       [ -3.22612521,  -2.46818438],\n",
       "       [ -3.4752271 ,  -3.51941583],\n",
       "       [ -2.43682852,  -1.93048437],\n",
       "       [ -1.22146616,  -3.15123936],\n",
       "       [  6.36693483,  -2.31322604],\n",
       "       [ -4.45710918,  -3.24307894],\n",
       "       [ -4.39357405,  -2.7782204 ],\n",
       "       [ -3.91685059,  -3.21832266],\n",
       "       [ -4.49043592,  -3.92739341],\n",
       "       [ -3.35854239,  -1.89962013],\n",
       "       [  0.53956532,  -3.66656861],\n",
       "       [ -2.6580795 ,  -2.01458487],\n",
       "       [ -1.18015333,  -2.91831109],\n",
       "       [ -4.31528978,  -3.48183523],\n",
       "       [ -4.2938062 ,  -3.44053488],\n",
       "       [ -4.16576501,  -3.22858031],\n",
       "       [ -3.766347  ,  -2.71451004],\n",
       "       [ -4.17841149,  -3.77815834],\n",
       "       [  8.38436363,  -1.79058866],\n",
       "       [ -3.60450828,  -1.15429256],\n",
       "       [ -4.46914403,  -1.78073642],\n",
       "       [ -5.01549407,  -3.57244702],\n",
       "       [ -2.82658782,  -3.58114172],\n",
       "       [ -4.01672014,  -1.99216653],\n",
       "       [ -4.16576501,  -3.22858031],\n",
       "       [ -3.45517297,  -3.10402521],\n",
       "       [ -2.19916828,  -2.54883856],\n",
       "       [ -2.52288843,  -2.43443541],\n",
       "       [ -2.97516768,  -3.69197827],\n",
       "       [ -2.73401188,  -0.69960467],\n",
       "       [ -4.35300944,  -3.24237875],\n",
       "       [ -2.51003523,  -2.38384001],\n",
       "       [ -1.30978242,  -3.52642656],\n",
       "       [ -3.72997449,  -3.94945439],\n",
       "       [  2.76666871,  -2.78338832]])"
      ]
     },
     "execution_count": 8,
     "metadata": {},
     "output_type": "execute_result"
    }
   ],
   "source": [
    "Y_sklearn"
   ]
  },
  {
   "cell_type": "code",
   "execution_count": 9,
   "metadata": {},
   "outputs": [
    {
     "data": {
      "text/plain": [
       "69"
      ]
     },
     "execution_count": 9,
     "metadata": {},
     "output_type": "execute_result"
    }
   ],
   "source": [
    "len(w1)"
   ]
  },
  {
   "cell_type": "code",
   "execution_count": 10,
   "metadata": {},
   "outputs": [
    {
     "data": {
      "text/plain": [
       "0"
      ]
     },
     "execution_count": 10,
     "metadata": {},
     "output_type": "execute_result"
    }
   ],
   "source": [
    "len(w2)"
   ]
  },
  {
   "cell_type": "code",
   "execution_count": 11,
   "metadata": {},
   "outputs": [
    {
     "data": {
      "image/png": "[encoded data removed]",
      "text/plain": [
       "<Figure size 432x288 with 1 Axes>"
      ]
     },
     "metadata": {},
     "output_type": "display_data"
    }
   ],
   "source": [
    "fig = plt.figure()\n",
    "ax1 = fig.add_subplot(111)\n",
    "ax1.scatter(x = Y_sklearn[:len(w1),0], y = Y_sklearn[:len(w1),1], s=10, c='b', label='w1')\n",
    "ax1.scatter(x = Y_sklearn[len(w1):,0], y = Y_sklearn[len(w1):,1], s=10, c='r', label='w2')\n",
    "plt.legend(loc='best');\n",
    "plt.show()"
   ]
  },
  {
   "cell_type": "code",
   "execution_count": 12,
   "metadata": {},
   "outputs": [
    {
     "data": {
      "text/plain": [
       "array([0, 0, 1, 0, 0, 0, 0, 0, 0, 0, 0, 0, 0, 0, 0, 0, 0, 0, 0, 0, 0, 0,\n",
       "       0, 0, 0, 0, 0, 0, 0, 0, 0, 0, 0, 0, 0, 0, 0, 0, 0, 0, 0, 0, 0, 0,\n",
       "       0, 0, 0, 0, 0, 0, 0, 0, 0, 0, 0, 0, 0, 0, 0, 0, 0, 0, 0, 0, 0, 0,\n",
       "       0, 0, 0], dtype=int32)"
      ]
     },
     "execution_count": 12,
     "metadata": {},
     "output_type": "execute_result"
    }
   ],
   "source": [
    "kmeans = KMeans(n_clusters = 2)\n",
    "X_clustered = kmeans.fit_predict(Y_sklearn)\n",
    "X_clustered"
   ]
  },
  {
   "cell_type": "code",
   "execution_count": 13,
   "metadata": {},
   "outputs": [
    {
     "name": "stderr",
     "output_type": "stream",
     "text": [
      "No handles with labels found to put in legend.\n"
     ]
    },
    {
     "data": {
      "image/png": "[encoded data removed]",
      "text/plain": [
       "<Figure size 432x288 with 1 Axes>"
      ]
     },
     "metadata": {},
     "output_type": "display_data"
    }
   ],
   "source": [
    "kmeans1position=[i for i,x in enumerate(X_clustered) if x == 0]\n",
    "kmeans2position=[i for i,x in enumerate(X_clustered) if x == 1]\n",
    "kmeans1=[]\n",
    "kmeans2=[]\n",
    "for i in kmeans1position:\n",
    "    kmeans1.append(Y_sklearn[i].tolist())\n",
    "for i in kmeans2position:\n",
    "    kmeans2.append(Y_sklearn[i].tolist())\n",
    "kmeans1=np.asarray(kmeans1)\n",
    "kmeans2=np.asarray(kmeans2)\n",
    "fig = plt.figure()\n",
    "ax1 = fig.add_subplot(111)\n",
    "ax1.scatter(x = kmeans1[:,0], y = kmeans1[:,1], s=10, c='black')\n",
    "ax1.scatter(x = kmeans2[:,0], y = kmeans2[:,1], s=10, c='green')\n",
    "plt.legend(loc='best');\n",
    "plt.show()"
   ]
  },
  {
   "cell_type": "code",
   "execution_count": 14,
   "metadata": {},
   "outputs": [],
   "source": [
    "import plotly\n",
    "import plotly.plotly as py\n",
    "import plotly.graph_objs as go\n",
    "plotly.tools.set_credentials_file(username='LiangPeiJu', api_key='AAINuB71QEI9chxuV016')"
   ]
  },
  {
   "cell_type": "code",
   "execution_count": 15,
   "metadata": {},
   "outputs": [
    {
     "name": "stdout",
     "output_type": "stream",
     "text": [
      "High five! You successfully sent some data to your account on plotly. View your plot in your browser at https://plot.ly/~LiangPeiJu/0 or inside your plot.ly account where it is named 'PCA Scatter Chart'\n"
     ]
    },
    {
     "data": {
      "text/html": [
       "<iframe id=\"igraph\" scrolling=\"no\" style=\"border:none;\" seamless=\"seamless\" src=\"https://plot.ly/~LiangPeiJu/0.embed\" height=\"525px\" width=\"100%\"></iframe>"
      ],
      "text/plain": [
       "<plotly.tools.PlotlyDisplay object>"
      ]
     },
     "execution_count": 15,
     "metadata": {},
     "output_type": "execute_result"
    }
   ],
   "source": [
    "pca_data1 = go.Scatter(\n",
    "        x = Y_sklearn[:len(w1),0],\n",
    "        y = Y_sklearn[:len(w1),1],\n",
    "        name = 'pca_data1',\n",
    "        mode = \"markers\",\n",
    "        hoverinfo = 'text',\n",
    "        text = textfile1\n",
    "    )\n",
    "\n",
    "pca_data2 = go.Scatter(\n",
    "        x = Y_sklearn[len(w1):,0],\n",
    "        y = Y_sklearn[len(w1):,1],\n",
    "        name = 'pca_data2',\n",
    "        mode = \"markers\",\n",
    "        hoverinfo = 'text',\n",
    "        text = textfile2\n",
    "    )\n",
    "data = [pca_data1,pca_data2]\n",
    "py.iplot(data, filename = 'PCA Scatter Chart')"
   ]
  },
  {
   "cell_type": "code",
   "execution_count": 16,
   "metadata": {},
   "outputs": [
    {
     "data": {
      "text/html": [
       "<iframe id=\"igraph\" scrolling=\"no\" style=\"border:none;\" seamless=\"seamless\" src=\"https://plot.ly/~LiangPeiJu/2.embed\" height=\"525px\" width=\"100%\"></iframe>"
      ],
      "text/plain": [
       "<plotly.tools.PlotlyDisplay object>"
      ]
     },
     "execution_count": 16,
     "metadata": {},
     "output_type": "execute_result"
    }
   ],
   "source": [
    "kmeans_data1 = go.Scatter(\n",
    "        x = kmeans1[:,0],\n",
    "        y = kmeans1[:,1],\n",
    "        name = 'kmeans_data1',\n",
    "        mode = \"markers\",\n",
    "        hoverinfo = 'text',\n",
    "        text = textfile1\n",
    "    )\n",
    "\n",
    "kmeans_data2 = go.Scatter(\n",
    "        x = kmeans2[:,0],\n",
    "        y = kmeans2[:,1],\n",
    "        name = 'kmeans_data2',\n",
    "        mode = \"markers\",\n",
    "        hoverinfo = 'text',\n",
    "        text = textfile2\n",
    "    )\n",
    "data = [kmeans_data1,kmeans_data2]\n",
    "py.iplot(data, filename = 'kmeans Scatter Chart')"
   ]
  },
  {
   "cell_type": "code",
   "execution_count": null,
   "metadata": {},
   "outputs": [],
   "source": []
  }
 ],
 "metadata": {
  "kernelspec": {
   "display_name": "Python 3",
   "language": "python",
   "name": "python3"
  },
  "language_info": {
   "codemirror_mode": {
    "name": "ipython",
    "version": 3
   },
   "file_extension": ".py",
   "mimetype": "text/x-python",
   "name": "python",
   "nbconvert_exporter": "python",
   "pygments_lexer": "ipython3",
   "version": "3.6.5"
  }
 },
 "nbformat": 4,
 "nbformat_minor": 2
}
